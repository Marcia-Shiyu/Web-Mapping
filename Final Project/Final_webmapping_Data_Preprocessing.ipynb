{
  "nbformat": 4,
  "nbformat_minor": 0,
  "metadata": {
    "colab": {
      "provenance": []
    },
    "kernelspec": {
      "name": "python3",
      "display_name": "Python 3"
    },
    "language_info": {
      "name": "python"
    }
  },
  "cells": [
    {
      "cell_type": "code",
      "source": [
        "# Mounting Google Drive\n",
        "from google.colab import drive\n",
        "drive.mount('/content/drive')"
      ],
      "metadata": {
        "colab": {
          "base_uri": "https://localhost:8080/"
        },
        "id": "peortkyIB0JC",
        "outputId": "2e66aade-9f9c-4c14-e2f8-e96ebb9be841"
      },
      "execution_count": null,
      "outputs": [
        {
          "output_type": "stream",
          "name": "stdout",
          "text": [
            "Drive already mounted at /content/drive; to attempt to forcibly remount, call drive.mount(\"/content/drive\", force_remount=True).\n"
          ]
        }
      ]
    },
    {
      "cell_type": "code",
      "source": [
        "import pandas as pd\n",
        "import colorsys\n",
        "\n",
        "# Load the dataset\n",
        "file_path = '/content/drive/MyDrive/399L/Final_Project/WashingtonDC_Final_2022-06-18.csv'\n",
        "data = pd.read_csv(file_path)\n",
        "\n",
        "# Step 1: Split the scientific name into genus and species\n",
        "data[['genus', 'species']] = data['scientific_name'].str.split(' ', expand=True, n=1)\n",
        "\n",
        "# Step 2: Assign base colors to each genus based on realistic fall colors\n",
        "genus_colors = {\n",
        "    \"Quercus\": \"#FF4500\",\n",
        "    \"Pyrus\": \"#FFA500\",\n",
        "    \"Ulmus\": \"#FFD700\",\n",
        "    \"Tilia\": \"#FFFF00\",\n",
        "    \"Celtis\": \"#FFD700\",\n",
        "    \"Platanus\": \"#A52A2A\",\n",
        "    \"Acer\": \"#FF0000\",\n",
        "    \"Zelkova\": \"#FFA07A\",\n",
        "    \"Gymnocladus\": \"#DAA520\",\n",
        "    \"Unknown\": \"#A9A9A9\",\n",
        "    \"Liquidambar\": \"#8B0000\",\n",
        "    \"Ginkgo\": \"#FFD700\",\n",
        "    \"Cercis\": \"#FFFF99\",\n",
        "    \"Lagerstroemia\": \"#FF6347\",\n",
        "    \"Cercidiphyllum\": \"#FFA500\",\n",
        "    \"Carpinus\": \"#FFD700\",\n",
        "    \"Pistacia\": \"#DC143C\",\n",
        "    \"Gleditsia\": \"#FFFF00\",\n",
        "    \"Malus\": \"#FF6347\",\n",
        "    \"Prunus\": \"#FFA500\",\n",
        "    \"Nyssa\": \"#B22222\",\n",
        "    \"Magnolia\": \"#DEB887\",\n",
        "    \"Robinia\": \"#FFD700\",\n",
        "    \"Betula\": \"#FFD700\",\n",
        "    \"Ostrya\": \"#FFD700\",\n",
        "    \"Cladrastis\": \"#FFFF99\",\n",
        "    \"Syringa\": \"#800080\",\n",
        "    \"Fagus\": \"#CD853F\",\n",
        "    \"Amelanchier\": \"#FF4500\",\n",
        "    \"Liriodendron\": \"#FFD700\",\n",
        "    \"Morus\": \"#FFFF99\",\n",
        "    \"Taxodium\": \"#D2691E\",\n",
        "    \"Koelreuteria\": \"#FFFF66\",\n",
        "    \"Metasequoia\": \"#D2691E\",\n",
        "    \"Fraxinus\": \"#800080\",\n",
        "    \"Pinus\": \"#228B22\",\n",
        "    \"Ilex\": \"#B22222\",\n",
        "    \"Parrotia\": \"#FF4500\",\n",
        "    \"Styphnolobium\": \"#FFFF66\",\n",
        "    \"Halesia\": \"#FFD700\",\n",
        "    \"Oxydendrum\": \"#FF4500\",\n",
        "    \"Stewartia\": \"#B22222\",\n",
        "    \"Cornus\": \"#FF4500\",\n",
        "    \"Eucommia\": \"#FFFF66\",\n",
        "    \"Chionanthus\": \"#FFFF99\",\n",
        "    \"Aesculus\": \"#A52A2A\",\n",
        "    \"Juniperus\": \"#228B22\",\n",
        "    \"Juglans\": \"#FFD700\",\n",
        "    \"Ailanthus\": \"#FFFF99\",\n",
        "    \"Salix\": \"#FFFF00\",\n",
        "    \"Catalpa\": \"#FFFF66\",\n",
        "    \"Sassafras\": \"#FF4500\",\n",
        "    \"Crataegus\": \"#FF6347\",\n",
        "    \"Carya\": \"#FFD700\",\n",
        "    \"Rhus\": \"#B22222\",\n",
        "    \"Populus\": \"#FFD700\",\n",
        "    \"Diospyros\": \"#FFFF66\",\n",
        "    \"Picea\": \"#228B22\",\n",
        "    \"Cotinus\": \"#800080\",\n",
        "    \"Laburnum\": \"#FFFF66\",\n",
        "    \"Maackia\": \"#FFFF99\",\n",
        "    \"Phellodendron\": \"#FFFF66\",\n",
        "    \"Cryptomeria\": \"#D2691E\",\n",
        "    \"Thuja\": \"#228B22\",\n",
        "    \"Paulownia\": \"#FFFF99\",\n",
        "    \"Maclura\": \"#FFFF66\",\n",
        "    \"Tsuga\": \"#228B22\",\n",
        "    \"Cedrus\": \"#228B22\",\n",
        "    \"Alnus\": \"#FFFF66\",\n",
        "    \"Sorbus\": \"#FF4500\",\n",
        "    \"Albizia\": \"#FFFF66\",\n",
        "}\n",
        "\n",
        "# Assign base colors to each genus\n",
        "data['base_color'] = data['genus'].map(genus_colors).fillna(genus_colors['Unknown'])\n",
        "\n",
        "# Function to adjust the lightness of a color\n",
        "def adjust_lightness(color, factor):\n",
        "    r, g, b = int(color[1:3], 16), int(color[3:5], 16), int(color[5:7], 16)\n",
        "    h, l, s = colorsys.rgb_to_hls(r/255.0, g/255.0, b/255.0)\n",
        "    l = max(0, min(1, l * factor))\n",
        "    r, g, b = colorsys.hls_to_rgb(h, l, s)\n",
        "    return f'#{int(r*255):02X}{int(g*255):02X}{int(b*255):02X}'\n",
        "\n",
        "# Step 3: Generate shades for each species\n",
        "unique_species = data['species'].unique()\n",
        "shade_factors = {species: 1.0 + (i / len(unique_species) * 0.5) for i, species in enumerate(unique_species)}\n",
        "data['fall_color'] = data.apply(lambda row: adjust_lightness(row['base_color'], shade_factors[row['species']]), axis=1)\n",
        "\n",
        "# Create a set of unique genus, species, and their assigned colors\n",
        "unique_trees_colors = data[['genus', 'species', 'fall_color']].drop_duplicates().sort_values(by=['genus', 'species'])\n",
        "\n",
        "# Display the unique trees and their colors\n",
        "unique_trees_colors.head()\n",
        "\n",
        "# Save the modified dataset with fall colors\n",
        "output_path_scientific = '/content/drive/MyDrive/399L/Final_Project/WashingtonDC_FallColors_Scientific_2022-06-18.csv'\n",
        "data.to_csv(output_path_scientific, index=False)\n",
        "\n",
        "# Save the unique trees and their colors to a separate CSV file\n",
        "unique_trees_colors_path = '/content/drive/MyDrive/399L/Final_Project/TreeColors_ScientificNames_2022-06-18.csv'\n",
        "unique_trees_colors.to_csv(unique_trees_colors_path, index=False)\n",
        "\n",
        "output_path_scientific, unique_trees_colors_path\n"
      ],
      "metadata": {
        "colab": {
          "base_uri": "https://localhost:8080/"
        },
        "id": "AREK1DSgGtmk",
        "outputId": "1d25f665-86c4-4f6d-e3db-fe4228461955"
      },
      "execution_count": null,
      "outputs": [
        {
          "output_type": "execute_result",
          "data": {
            "text/plain": [
              "('/content/drive/MyDrive/399L/Final_Project/WashingtonDC_FallColors_Scientific_2022-06-18.csv',\n",
              " '/content/drive/MyDrive/399L/Final_Project/TreeColors_ScientificNames_2022-06-18.csv')"
            ]
          },
          "metadata": {},
          "execution_count": 15
        }
      ]
    },
    {
      "cell_type": "code",
      "source": [
        "data['genus'].unique()"
      ],
      "metadata": {
        "colab": {
          "base_uri": "https://localhost:8080/"
        },
        "id": "ekugLJ9ZMW4c",
        "outputId": "140ab937-c98b-45d7-8f41-a042c25eb631"
      },
      "execution_count": null,
      "outputs": [
        {
          "output_type": "execute_result",
          "data": {
            "text/plain": [
              "array(['Quercus', 'Pyrus', 'Ulmus', 'Tilia', 'Celtis', 'Platanus', 'Acer',\n",
              "       'Zelkova', 'Gymnocladus', 'Unknown', 'Liquidambar', 'Ginkgo',\n",
              "       'Cercis', 'Lagerstroemia', 'Cercidiphyllum', 'Carpinus',\n",
              "       'Pistacia', 'Gleditsia', 'Malus', 'Prunus', 'Nyssa', 'Magnolia',\n",
              "       'Robinia', 'Betula', 'Ostrya', 'Cladrastis', 'Syringa', 'Fagus',\n",
              "       'Amelanchier', 'Liriodendron', 'Morus', 'Taxodium', 'Koelreuteria',\n",
              "       'Metasequoia', 'Fraxinus', 'Pinus', 'Ilex', 'Parrotia',\n",
              "       'Styphnolobium', 'Halesia', 'Oxydendrum', 'Stewartia', 'Cornus',\n",
              "       'Eucommia', 'Chionanthus', 'Aesculus', 'Juniperus', 'Juglans',\n",
              "       'Ailanthus', 'Salix', 'Catalpa', 'Sassafras', 'Crataegus', 'Carya',\n",
              "       'Rhus', 'Populus', 'Diospyros', 'Picea', 'Cotinus', 'Laburnum',\n",
              "       'Maackia', 'Phellodendron', 'Cryptomeria', 'Thuja', 'Paulownia',\n",
              "       'Maclura', 'Tsuga', 'Cedrus', 'Alnus', 'Sorbus', 'Albizia'],\n",
              "      dtype=object)"
            ]
          },
          "metadata": {},
          "execution_count": 14
        }
      ]
    },
    {
      "cell_type": "code",
      "execution_count": null,
      "metadata": {
        "id": "clzabUGfsQhr"
      },
      "outputs": [],
      "source": [
        "## import as json\n",
        "import pandas as pd\n",
        "import geopandas as gpd\n",
        "from shapely.geometry import Point\n",
        "\n",
        "# Load the CSV data\n",
        "data = pd.read_csv('/content/drive/MyDrive/399L/Final_Project/WashingtonDC_FallColors_Scientific_2022-06-18.csv')\n",
        "\n",
        "# Create a GeoDataFrame\n",
        "gdf = gpd.GeoDataFrame(data, geometry=gpd.points_from_xy(data.longitude_coordinate, data.latitude_coordinate))\n",
        "\n",
        "# Save to GeoJSON\n",
        "geojson_path = '/content/drive/MyDrive/399L/Final_Project/WashingtonDC_FallColors_Scientific_2022-06-18.json'\n",
        "gdf.to_file(geojson_path, driver='GeoJSON')\n"
      ]
    },
    {
      "cell_type": "code",
      "source": [
        "## import as geojson\n",
        "import pandas as pd\n",
        "import geopandas as gpd\n",
        "from shapely.geometry import Point\n",
        "\n",
        "# Load the CSV data\n",
        "data = pd.read_csv('/content/drive/MyDrive/399L/Final_Project/WashingtonDC_FallColors_Scientific_2022-06-18.csv')\n",
        "\n",
        "# Create a GeoDataFrame\n",
        "gdf = gpd.GeoDataFrame(data, geometry=gpd.points_from_xy(data.longitude_coordinate, data.latitude_coordinate))\n",
        "\n",
        "# Save to GeoJSON\n",
        "geojson_path = '/content/drive/MyDrive/399L/Final_Project/WashingtonDC_FallColors_Scientific_2022-06-18.geojson'\n",
        "gdf.to_file(geojson_path, driver='GeoJSON')\n"
      ],
      "metadata": {
        "id": "YLT9rsDCbuRE"
      },
      "execution_count": null,
      "outputs": []
    },
    {
      "cell_type": "code",
      "source": [
        "## import as geojson\n",
        "import pandas as pd\n",
        "import geopandas as gpd\n",
        "from shapely.geometry import Point\n",
        "\n",
        "# Path to your existing GeoJSON file\n",
        "geojson_path = '/content/drive/MyDrive/399L/Final_Project/WashingtonDC_FallColors_Scientific_2022-06-18.geojson'\n",
        "\n",
        "# Read the existing GeoJSON file\n",
        "gdf = gpd.read_file(geojson_path)\n",
        "\n",
        "# Simplify the GeoDataFrame by reducing the number of points\n",
        "# We will use random sampling to reduce the number of points\n",
        "fraction = 0.1  # Adjust this fraction based on the level of simplification needed\n",
        "simplified_gdf = gdf.sample(frac=fraction)\n",
        "\n",
        "# Path to save the simplified GeoJSON file\n",
        "simplified_geojson_path = '/content/drive/MyDrive/399L/Final_Project/WashingtonDC_FallColors_Scientific_2022-06-18_simplified.geojson'\n",
        "\n",
        "# Save the simplified GeoJSON file\n",
        "simplified_gdf.to_file(simplified_geojson_path, driver='GeoJSON')\n",
        "\n",
        "# Verify the simplification\n",
        "print(f\"Original number of points: {len(gdf)}\")\n",
        "print(f\"Simplified number of points: {len(simplified_gdf)}\")"
      ],
      "metadata": {
        "colab": {
          "base_uri": "https://localhost:8080/"
        },
        "id": "OSN87EPoNFOT",
        "outputId": "b5fbd7e9-cc21-41a2-c109-c559fbe38fe3"
      },
      "execution_count": null,
      "outputs": [
        {
          "output_type": "stream",
          "name": "stdout",
          "text": [
            "Original number of points: 190991\n",
            "Simplified number of points: 19099\n"
          ]
        }
      ]
    },
    {
      "cell_type": "code",
      "source": [],
      "metadata": {
        "id": "Jghh4tSQncAK"
      },
      "execution_count": null,
      "outputs": []
    }
  ]
}